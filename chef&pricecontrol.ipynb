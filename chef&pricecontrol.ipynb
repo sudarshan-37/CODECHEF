{
 "cells": [
  {
   "cell_type": "code",
   "execution_count": 23,
   "metadata": {},
   "outputs": [
    {
     "name": "stdout",
     "output_type": "stream",
     "text": [
      "2\n",
      "3 5\n",
      "1 2 3\n",
      "0\n",
      "4 5\n",
      "6 7 2\n",
      "3\n"
     ]
    }
   ],
   "source": [
    "t = int(input())\n",
    "\n",
    "\n",
    "for j in range(t):\n",
    "    n,k = input().split()\n",
    "    n = int(n)\n",
    "    k = int(k)\n",
    "    items = input().split()\n",
    "    items = [int(i) for i in items]\n",
    "    loss = 0\n",
    "    for i in items:\n",
    "        if(i>k):\n",
    "            loss += (i-k)\n",
    "    print(loss)"
   ]
  },
  {
   "cell_type": "code",
   "execution_count": null,
   "metadata": {},
   "outputs": [],
   "source": []
  }
 ],
 "metadata": {
  "kernelspec": {
   "display_name": "Python 3",
   "language": "python",
   "name": "python3"
  },
  "language_info": {
   "codemirror_mode": {
    "name": "ipython",
    "version": 3
   },
   "file_extension": ".py",
   "mimetype": "text/x-python",
   "name": "python",
   "nbconvert_exporter": "python",
   "pygments_lexer": "ipython3",
   "version": "3.7.6"
  }
 },
 "nbformat": 4,
 "nbformat_minor": 4
}
