{
 "cells": [
  {
   "cell_type": "code",
   "execution_count": 1,
   "metadata": {},
   "outputs": [
    {
     "name": "stdout",
     "output_type": "stream",
     "text": [
      "2\n",
      "xyxxyyyxyyxyyxy\n",
      "5\n",
      "xyyxyxyyxyxyxy\n",
      "6\n"
     ]
    }
   ],
   "source": [
    "t = int(input())\n",
    "\n",
    "for i in range(t):\n",
    "    \n",
    "    s = input()\n",
    "    l = len(s)\n",
    "    count = 0\n",
    "    i = 1\n",
    "    while(i<l):\n",
    "\n",
    "        if(s[i]=='x'):\n",
    "            if(s[i-1]=='y'):\n",
    "                count += 1\n",
    "                i += 2\n",
    "            else:\n",
    "                i += 1\n",
    "        \n",
    "        else:\n",
    "            if(s[i-1]=='x'):\n",
    "                count += 1\n",
    "                i += 2\n",
    "            else:\n",
    "                i += 1\n",
    "            \n",
    "    print(count)"
   ]
  },
  {
   "cell_type": "code",
   "execution_count": null,
   "metadata": {},
   "outputs": [],
   "source": []
  }
 ],
 "metadata": {
  "kernelspec": {
   "display_name": "Python 3",
   "language": "python",
   "name": "python3"
  },
  "language_info": {
   "codemirror_mode": {
    "name": "ipython",
    "version": 3
   },
   "file_extension": ".py",
   "mimetype": "text/x-python",
   "name": "python",
   "nbconvert_exporter": "python",
   "pygments_lexer": "ipython3",
   "version": "3.7.6"
  }
 },
 "nbformat": 4,
 "nbformat_minor": 4
}
